{
 "cells": [
  {
   "attachments": {},
   "cell_type": "markdown",
   "metadata": {},
   "source": [
    "PROCESO DE ETL DEL DATASET BRINDADO POR SOY HENRY EN EL REPOSITORIO DE GUIA"
   ]
  },
  {
   "cell_type": "code",
   "execution_count": 1,
   "metadata": {},
   "outputs": [],
   "source": [
    "# Importamos las librerías necesarias para el procesamiento de los datos. \n",
    "import pandas as pd\n",
    "import numpy as np\n",
    "import matplotlib.pyplot as plt\n",
    "from datetime import date, timedelta, datetime"
   ]
  },
  {
   "cell_type": "code",
   "execution_count": 4,
   "metadata": {},
   "outputs": [],
   "source": [
    "# Cargamos los datos en formato DataFrame, desde el dataset brindado.\n",
    "df = pd.read_csv(\"Datasets/AccidentesAviones.csv\", sep= \",\")"
   ]
  },
  {
   "cell_type": "code",
   "execution_count": 5,
   "metadata": {},
   "outputs": [
    {
     "data": {
      "text/html": [
       "<div>\n",
       "<style scoped>\n",
       "    .dataframe tbody tr th:only-of-type {\n",
       "        vertical-align: middle;\n",
       "    }\n",
       "\n",
       "    .dataframe tbody tr th {\n",
       "        vertical-align: top;\n",
       "    }\n",
       "\n",
       "    .dataframe thead th {\n",
       "        text-align: right;\n",
       "    }\n",
       "</style>\n",
       "<table border=\"1\" class=\"dataframe\">\n",
       "  <thead>\n",
       "    <tr style=\"text-align: right;\">\n",
       "      <th></th>\n",
       "      <th>Unnamed: 0</th>\n",
       "      <th>fecha</th>\n",
       "      <th>HORA declarada</th>\n",
       "      <th>Ruta</th>\n",
       "      <th>OperadOR</th>\n",
       "      <th>flight_no</th>\n",
       "      <th>route</th>\n",
       "      <th>ac_type</th>\n",
       "      <th>registration</th>\n",
       "      <th>cn_ln</th>\n",
       "      <th>all_aboard</th>\n",
       "      <th>PASAJEROS A BORDO</th>\n",
       "      <th>crew_aboard</th>\n",
       "      <th>cantidad de fallecidos</th>\n",
       "      <th>passenger_fatalities</th>\n",
       "      <th>crew_fatalities</th>\n",
       "      <th>ground</th>\n",
       "      <th>summary</th>\n",
       "    </tr>\n",
       "  </thead>\n",
       "  <tbody>\n",
       "    <tr>\n",
       "      <th>0</th>\n",
       "      <td>0</td>\n",
       "      <td>September 17, 1908</td>\n",
       "      <td>1718</td>\n",
       "      <td>Fort Myer, Virginia</td>\n",
       "      <td>Military - U.S. Army</td>\n",
       "      <td>?</td>\n",
       "      <td>Demonstration</td>\n",
       "      <td>Wright Flyer III</td>\n",
       "      <td>?</td>\n",
       "      <td>1</td>\n",
       "      <td>2</td>\n",
       "      <td>1</td>\n",
       "      <td>1</td>\n",
       "      <td>1</td>\n",
       "      <td>1</td>\n",
       "      <td>0</td>\n",
       "      <td>0</td>\n",
       "      <td>During a demonstration flight, a U.S. Army fly...</td>\n",
       "    </tr>\n",
       "    <tr>\n",
       "      <th>1</th>\n",
       "      <td>1</td>\n",
       "      <td>September 07, 1909</td>\n",
       "      <td>?</td>\n",
       "      <td>Juvisy-sur-Orge, France</td>\n",
       "      <td>?</td>\n",
       "      <td>?</td>\n",
       "      <td>Air show</td>\n",
       "      <td>Wright Byplane</td>\n",
       "      <td>SC1</td>\n",
       "      <td>?</td>\n",
       "      <td>1</td>\n",
       "      <td>0</td>\n",
       "      <td>1</td>\n",
       "      <td>1</td>\n",
       "      <td>0</td>\n",
       "      <td>0</td>\n",
       "      <td>0</td>\n",
       "      <td>Eugene Lefebvre was the first pilot to ever be...</td>\n",
       "    </tr>\n",
       "    <tr>\n",
       "      <th>2</th>\n",
       "      <td>2</td>\n",
       "      <td>July 12, 1912</td>\n",
       "      <td>0630</td>\n",
       "      <td>Atlantic City, New Jersey</td>\n",
       "      <td>Military - U.S. Navy</td>\n",
       "      <td>?</td>\n",
       "      <td>Test flight</td>\n",
       "      <td>Dirigible</td>\n",
       "      <td>?</td>\n",
       "      <td>?</td>\n",
       "      <td>5</td>\n",
       "      <td>0</td>\n",
       "      <td>5</td>\n",
       "      <td>5</td>\n",
       "      <td>0</td>\n",
       "      <td>5</td>\n",
       "      <td>0</td>\n",
       "      <td>First U.S. dirigible Akron exploded just offsh...</td>\n",
       "    </tr>\n",
       "  </tbody>\n",
       "</table>\n",
       "</div>"
      ],
      "text/plain": [
       "   Unnamed: 0               fecha HORA declarada                       Ruta  \\\n",
       "0           0  September 17, 1908           1718        Fort Myer, Virginia   \n",
       "1           1  September 07, 1909              ?    Juvisy-sur-Orge, France   \n",
       "2           2       July 12, 1912           0630  Atlantic City, New Jersey   \n",
       "\n",
       "               OperadOR flight_no          route           ac_type  \\\n",
       "0  Military - U.S. Army         ?  Demonstration  Wright Flyer III   \n",
       "1                     ?         ?       Air show    Wright Byplane   \n",
       "2  Military - U.S. Navy         ?    Test flight         Dirigible   \n",
       "\n",
       "  registration cn_ln all_aboard PASAJEROS A BORDO crew_aboard  \\\n",
       "0            ?     1          2                 1           1   \n",
       "1          SC1     ?          1                 0           1   \n",
       "2            ?     ?          5                 0           5   \n",
       "\n",
       "  cantidad de fallecidos passenger_fatalities crew_fatalities ground  \\\n",
       "0                      1                    1               0      0   \n",
       "1                      1                    0               0      0   \n",
       "2                      5                    0               5      0   \n",
       "\n",
       "                                             summary  \n",
       "0  During a demonstration flight, a U.S. Army fly...  \n",
       "1  Eugene Lefebvre was the first pilot to ever be...  \n",
       "2  First U.S. dirigible Akron exploded just offsh...  "
      ]
     },
     "execution_count": 5,
     "metadata": {},
     "output_type": "execute_result"
    }
   ],
   "source": [
    "# Visualizamos nuestro Dataframe resultante. \n",
    "df.head(3)"
   ]
  },
  {
   "cell_type": "code",
   "execution_count": 6,
   "metadata": {},
   "outputs": [
    {
     "data": {
      "text/html": [
       "<div>\n",
       "<style scoped>\n",
       "    .dataframe tbody tr th:only-of-type {\n",
       "        vertical-align: middle;\n",
       "    }\n",
       "\n",
       "    .dataframe tbody tr th {\n",
       "        vertical-align: top;\n",
       "    }\n",
       "\n",
       "    .dataframe thead th {\n",
       "        text-align: right;\n",
       "    }\n",
       "</style>\n",
       "<table border=\"1\" class=\"dataframe\">\n",
       "  <thead>\n",
       "    <tr style=\"text-align: right;\">\n",
       "      <th></th>\n",
       "      <th>Unnamed: 0</th>\n",
       "      <th>fecha</th>\n",
       "      <th>HORA declarada</th>\n",
       "      <th>Ruta</th>\n",
       "      <th>OperadOR</th>\n",
       "      <th>flight_no</th>\n",
       "      <th>route</th>\n",
       "      <th>ac_type</th>\n",
       "      <th>registration</th>\n",
       "      <th>cn_ln</th>\n",
       "      <th>all_aboard</th>\n",
       "      <th>PASAJEROS A BORDO</th>\n",
       "      <th>crew_aboard</th>\n",
       "      <th>cantidad de fallecidos</th>\n",
       "      <th>passenger_fatalities</th>\n",
       "      <th>crew_fatalities</th>\n",
       "      <th>ground</th>\n",
       "      <th>summary</th>\n",
       "    </tr>\n",
       "  </thead>\n",
       "  <tbody>\n",
       "    <tr>\n",
       "      <th>5005</th>\n",
       "      <td>5005</td>\n",
       "      <td>June 10, 2021</td>\n",
       "      <td>0800</td>\n",
       "      <td>Near Pyin Oo Lwin, Myanmar</td>\n",
       "      <td>Military - Myanmar Air Force</td>\n",
       "      <td>?</td>\n",
       "      <td>Naypyidaw - Anisakan</td>\n",
       "      <td>Beechcraft 1900D</td>\n",
       "      <td>4610</td>\n",
       "      <td>E-325</td>\n",
       "      <td>14</td>\n",
       "      <td>12</td>\n",
       "      <td>2</td>\n",
       "      <td>12</td>\n",
       "      <td>11</td>\n",
       "      <td>1</td>\n",
       "      <td>0</td>\n",
       "      <td>The plane was carrying military personnel and ...</td>\n",
       "    </tr>\n",
       "    <tr>\n",
       "      <th>5006</th>\n",
       "      <td>5006</td>\n",
       "      <td>July 04, 2021</td>\n",
       "      <td>11:30</td>\n",
       "      <td>Patikul, Sulu, Philippines</td>\n",
       "      <td>Military - Philippine Air Force</td>\n",
       "      <td>?</td>\n",
       "      <td>Cagayan de Oro-Lumbia - Jolo</td>\n",
       "      <td>Lockheed C-130H Hercules</td>\n",
       "      <td>5125</td>\n",
       "      <td>5125</td>\n",
       "      <td>96</td>\n",
       "      <td>88</td>\n",
       "      <td>8</td>\n",
       "      <td>50</td>\n",
       "      <td>?</td>\n",
       "      <td>?</td>\n",
       "      <td>3</td>\n",
       "      <td>While attempting to land at Jolo Airport, the ...</td>\n",
       "    </tr>\n",
       "    <tr>\n",
       "      <th>5007</th>\n",
       "      <td>5007</td>\n",
       "      <td>July 06, 2021</td>\n",
       "      <td>1500</td>\n",
       "      <td>Palana, Russia</td>\n",
       "      <td>Kamchatka Aviation Enterprise</td>\n",
       "      <td>251</td>\n",
       "      <td>Petropavlovsk - Palana</td>\n",
       "      <td>Antonov An 26B-100</td>\n",
       "      <td>RA-26085</td>\n",
       "      <td>12310</td>\n",
       "      <td>28</td>\n",
       "      <td>22</td>\n",
       "      <td>6</td>\n",
       "      <td>28</td>\n",
       "      <td>22</td>\n",
       "      <td>6</td>\n",
       "      <td>0</td>\n",
       "      <td>The passenger plane crashed into the top of a ...</td>\n",
       "    </tr>\n",
       "  </tbody>\n",
       "</table>\n",
       "</div>"
      ],
      "text/plain": [
       "      Unnamed: 0          fecha HORA declarada                        Ruta  \\\n",
       "5005        5005  June 10, 2021           0800  Near Pyin Oo Lwin, Myanmar   \n",
       "5006        5006  July 04, 2021          11:30  Patikul, Sulu, Philippines   \n",
       "5007        5007  July 06, 2021           1500              Palana, Russia   \n",
       "\n",
       "                             OperadOR flight_no                         route  \\\n",
       "5005     Military - Myanmar Air Force         ?          Naypyidaw - Anisakan   \n",
       "5006  Military - Philippine Air Force         ?  Cagayan de Oro-Lumbia - Jolo   \n",
       "5007    Kamchatka Aviation Enterprise       251        Petropavlovsk - Palana   \n",
       "\n",
       "                       ac_type registration  cn_ln all_aboard  \\\n",
       "5005          Beechcraft 1900D         4610  E-325         14   \n",
       "5006  Lockheed C-130H Hercules         5125   5125         96   \n",
       "5007        Antonov An 26B-100     RA-26085  12310         28   \n",
       "\n",
       "     PASAJEROS A BORDO crew_aboard cantidad de fallecidos  \\\n",
       "5005                12           2                     12   \n",
       "5006                88           8                     50   \n",
       "5007                22           6                     28   \n",
       "\n",
       "     passenger_fatalities crew_fatalities ground  \\\n",
       "5005                   11               1      0   \n",
       "5006                    ?               ?      3   \n",
       "5007                   22               6      0   \n",
       "\n",
       "                                                summary  \n",
       "5005  The plane was carrying military personnel and ...  \n",
       "5006  While attempting to land at Jolo Airport, the ...  \n",
       "5007  The passenger plane crashed into the top of a ...  "
      ]
     },
     "execution_count": 6,
     "metadata": {},
     "output_type": "execute_result"
    }
   ],
   "source": [
    "df.tail(3)"
   ]
  },
  {
   "cell_type": "code",
   "execution_count": 7,
   "metadata": {},
   "outputs": [
    {
     "data": {
      "text/html": [
       "<div>\n",
       "<style scoped>\n",
       "    .dataframe tbody tr th:only-of-type {\n",
       "        vertical-align: middle;\n",
       "    }\n",
       "\n",
       "    .dataframe tbody tr th {\n",
       "        vertical-align: top;\n",
       "    }\n",
       "\n",
       "    .dataframe thead th {\n",
       "        text-align: right;\n",
       "    }\n",
       "</style>\n",
       "<table border=\"1\" class=\"dataframe\">\n",
       "  <thead>\n",
       "    <tr style=\"text-align: right;\">\n",
       "      <th></th>\n",
       "      <th>Unnamed: 0</th>\n",
       "      <th>fecha</th>\n",
       "      <th>HORA declarada</th>\n",
       "      <th>Ruta</th>\n",
       "      <th>OperadOR</th>\n",
       "      <th>flight_no</th>\n",
       "      <th>route</th>\n",
       "      <th>ac_type</th>\n",
       "      <th>registration</th>\n",
       "    </tr>\n",
       "  </thead>\n",
       "  <tbody>\n",
       "    <tr>\n",
       "      <th>0</th>\n",
       "      <td>0</td>\n",
       "      <td>September 17, 1908</td>\n",
       "      <td>1718</td>\n",
       "      <td>Fort Myer, Virginia</td>\n",
       "      <td>Military - U.S. Army</td>\n",
       "      <td>?</td>\n",
       "      <td>Demonstration</td>\n",
       "      <td>Wright Flyer III</td>\n",
       "      <td>?</td>\n",
       "    </tr>\n",
       "    <tr>\n",
       "      <th>1</th>\n",
       "      <td>1</td>\n",
       "      <td>September 07, 1909</td>\n",
       "      <td>?</td>\n",
       "      <td>Juvisy-sur-Orge, France</td>\n",
       "      <td>?</td>\n",
       "      <td>?</td>\n",
       "      <td>Air show</td>\n",
       "      <td>Wright Byplane</td>\n",
       "      <td>SC1</td>\n",
       "    </tr>\n",
       "    <tr>\n",
       "      <th>2</th>\n",
       "      <td>2</td>\n",
       "      <td>July 12, 1912</td>\n",
       "      <td>0630</td>\n",
       "      <td>Atlantic City, New Jersey</td>\n",
       "      <td>Military - U.S. Navy</td>\n",
       "      <td>?</td>\n",
       "      <td>Test flight</td>\n",
       "      <td>Dirigible</td>\n",
       "      <td>?</td>\n",
       "    </tr>\n",
       "  </tbody>\n",
       "</table>\n",
       "</div>"
      ],
      "text/plain": [
       "   Unnamed: 0               fecha HORA declarada                       Ruta  \\\n",
       "0           0  September 17, 1908           1718        Fort Myer, Virginia   \n",
       "1           1  September 07, 1909              ?    Juvisy-sur-Orge, France   \n",
       "2           2       July 12, 1912           0630  Atlantic City, New Jersey   \n",
       "\n",
       "               OperadOR flight_no          route           ac_type  \\\n",
       "0  Military - U.S. Army         ?  Demonstration  Wright Flyer III   \n",
       "1                     ?         ?       Air show    Wright Byplane   \n",
       "2  Military - U.S. Navy         ?    Test flight         Dirigible   \n",
       "\n",
       "  registration  \n",
       "0            ?  \n",
       "1          SC1  \n",
       "2            ?  "
      ]
     },
     "execution_count": 7,
     "metadata": {},
     "output_type": "execute_result"
    }
   ],
   "source": [
    "df.iloc[:,0:9].head(3)"
   ]
  },
  {
   "cell_type": "code",
   "execution_count": 8,
   "metadata": {},
   "outputs": [
    {
     "data": {
      "text/html": [
       "<div>\n",
       "<style scoped>\n",
       "    .dataframe tbody tr th:only-of-type {\n",
       "        vertical-align: middle;\n",
       "    }\n",
       "\n",
       "    .dataframe tbody tr th {\n",
       "        vertical-align: top;\n",
       "    }\n",
       "\n",
       "    .dataframe thead th {\n",
       "        text-align: right;\n",
       "    }\n",
       "</style>\n",
       "<table border=\"1\" class=\"dataframe\">\n",
       "  <thead>\n",
       "    <tr style=\"text-align: right;\">\n",
       "      <th></th>\n",
       "      <th>cn_ln</th>\n",
       "      <th>all_aboard</th>\n",
       "      <th>PASAJEROS A BORDO</th>\n",
       "      <th>crew_aboard</th>\n",
       "      <th>cantidad de fallecidos</th>\n",
       "      <th>passenger_fatalities</th>\n",
       "      <th>crew_fatalities</th>\n",
       "      <th>ground</th>\n",
       "      <th>summary</th>\n",
       "    </tr>\n",
       "  </thead>\n",
       "  <tbody>\n",
       "    <tr>\n",
       "      <th>0</th>\n",
       "      <td>1</td>\n",
       "      <td>2</td>\n",
       "      <td>1</td>\n",
       "      <td>1</td>\n",
       "      <td>1</td>\n",
       "      <td>1</td>\n",
       "      <td>0</td>\n",
       "      <td>0</td>\n",
       "      <td>During a demonstration flight, a U.S. Army fly...</td>\n",
       "    </tr>\n",
       "    <tr>\n",
       "      <th>1</th>\n",
       "      <td>?</td>\n",
       "      <td>1</td>\n",
       "      <td>0</td>\n",
       "      <td>1</td>\n",
       "      <td>1</td>\n",
       "      <td>0</td>\n",
       "      <td>0</td>\n",
       "      <td>0</td>\n",
       "      <td>Eugene Lefebvre was the first pilot to ever be...</td>\n",
       "    </tr>\n",
       "    <tr>\n",
       "      <th>2</th>\n",
       "      <td>?</td>\n",
       "      <td>5</td>\n",
       "      <td>0</td>\n",
       "      <td>5</td>\n",
       "      <td>5</td>\n",
       "      <td>0</td>\n",
       "      <td>5</td>\n",
       "      <td>0</td>\n",
       "      <td>First U.S. dirigible Akron exploded just offsh...</td>\n",
       "    </tr>\n",
       "  </tbody>\n",
       "</table>\n",
       "</div>"
      ],
      "text/plain": [
       "  cn_ln all_aboard PASAJEROS A BORDO crew_aboard cantidad de fallecidos  \\\n",
       "0     1          2                 1           1                      1   \n",
       "1     ?          1                 0           1                      1   \n",
       "2     ?          5                 0           5                      5   \n",
       "\n",
       "  passenger_fatalities crew_fatalities ground  \\\n",
       "0                    1               0      0   \n",
       "1                    0               0      0   \n",
       "2                    0               5      0   \n",
       "\n",
       "                                             summary  \n",
       "0  During a demonstration flight, a U.S. Army fly...  \n",
       "1  Eugene Lefebvre was the first pilot to ever be...  \n",
       "2  First U.S. dirigible Akron exploded just offsh...  "
      ]
     },
     "execution_count": 8,
     "metadata": {},
     "output_type": "execute_result"
    }
   ],
   "source": [
    "df.iloc[:, 9:18].head(3)"
   ]
  },
  {
   "cell_type": "code",
   "execution_count": 9,
   "metadata": {},
   "outputs": [
    {
     "data": {
      "text/plain": [
       "(5008, 18)"
      ]
     },
     "execution_count": 9,
     "metadata": {},
     "output_type": "execute_result"
    }
   ],
   "source": [
    "# Corroboramos las dimensiones de nuestro DataFrame resultante.\n",
    "df.shape"
   ]
  },
  {
   "cell_type": "code",
   "execution_count": 10,
   "metadata": {},
   "outputs": [
    {
     "data": {
      "text/plain": [
       "Index(['Unnamed: 0', 'fecha', 'HORA declarada', 'Ruta', 'OperadOR',\n",
       "       'flight_no', 'route', 'ac_type', 'registration', 'cn_ln', 'all_aboard',\n",
       "       'PASAJEROS A BORDO', 'crew_aboard', 'cantidad de fallecidos',\n",
       "       'passenger_fatalities', 'crew_fatalities', 'ground', 'summary'],\n",
       "      dtype='object')"
      ]
     },
     "execution_count": 10,
     "metadata": {},
     "output_type": "execute_result"
    }
   ],
   "source": [
    "# Visualizamos un listado de todas las columnas que contiene nuestro DataFrame originalmente. \n",
    "df.columns"
   ]
  },
  {
   "cell_type": "code",
   "execution_count": 11,
   "metadata": {},
   "outputs": [
    {
     "name": "stdout",
     "output_type": "stream",
     "text": [
      "<class 'pandas.core.frame.DataFrame'>\n",
      "RangeIndex: 5008 entries, 0 to 5007\n",
      "Data columns (total 18 columns):\n",
      " #   Column                  Non-Null Count  Dtype \n",
      "---  ------                  --------------  ----- \n",
      " 0   Unnamed: 0              5008 non-null   int64 \n",
      " 1   fecha                   5008 non-null   object\n",
      " 2   HORA declarada          5008 non-null   object\n",
      " 3   Ruta                    5008 non-null   object\n",
      " 4   OperadOR                5008 non-null   object\n",
      " 5   flight_no               5008 non-null   object\n",
      " 6   route                   5008 non-null   object\n",
      " 7   ac_type                 5008 non-null   object\n",
      " 8   registration            5008 non-null   object\n",
      " 9   cn_ln                   5008 non-null   object\n",
      " 10  all_aboard              5008 non-null   object\n",
      " 11  PASAJEROS A BORDO       5008 non-null   object\n",
      " 12  crew_aboard             5008 non-null   object\n",
      " 13  cantidad de fallecidos  5008 non-null   object\n",
      " 14  passenger_fatalities    5008 non-null   object\n",
      " 15  crew_fatalities         5008 non-null   object\n",
      " 16  ground                  5008 non-null   object\n",
      " 17  summary                 5008 non-null   object\n",
      "dtypes: int64(1), object(17)\n",
      "memory usage: 704.4+ KB\n"
     ]
    }
   ],
   "source": [
    "# Visualizamos una descripción general de nuestro DataFame. Cantidad de valores no nulos, tipo de datos, etc.\n",
    "df.info()"
   ]
  },
  {
   "cell_type": "code",
   "execution_count": 12,
   "metadata": {},
   "outputs": [],
   "source": [
    "# Eliminamos la columna \"Unnamed\", ya que no ofrece información relevante y probablemente sea una columna que contiene los valores de los índices de los registros.\n",
    "df = df.drop(\"Unnamed: 0\", axis=1)\n"
   ]
  },
  {
   "cell_type": "code",
   "execution_count": 13,
   "metadata": {},
   "outputs": [],
   "source": [
    "# Definimos un diccionario con el significado de cada columna, para tener una mejor comprensión de los datos. \n",
    "significado_variables = {\"fecha\": \"Fecha del accidente\",\n",
    "                         \"HORA declarada\": \"Hora local del accidente\",\n",
    "                         \"Ruta\": \"Aeropuerto de salida\",\n",
    "                         \"OperadOR\": \"Linea aerea u operador de la aeronave\",\n",
    "                         \"flight_no\": \"Número de vuelo asignado por el operador\",\n",
    "                         \"route\": \"Ruta completa o parcial volada antes del accidente\",\n",
    "                         \"ac_type\": \"Tipo de aeronave\",\n",
    "                         \"registration\": \"Matricula OACI de la aeronave\",\n",
    "                         \"cn_ln\": \"Construcción o número de serie\",\n",
    "                         \"all_aboard\": \"Total de personas a bordo, incluidos pasajeros y tripulación\",\n",
    "                         \"PASAJEROS A BORDO\": \"Total de pasajeros a bordo\",\n",
    "                         \"crew_aboard\": \"Total de tripulantes a bordo\",\n",
    "                         \"cantidad de fallecidos\": \"Total de fallecidos\",\n",
    "                         \"passenger_fatalities\": \"Pasajeros fallecidos\",\n",
    "                         \"crew_fatalities\": \"Tripulantes fallecidos\",\n",
    "                         \"ground\": \"Fallecidos en tierra\",\n",
    "                         \"summary\": \"Descripcion breve del suceso\"}"
   ]
  },
  {
   "cell_type": "code",
   "execution_count": 14,
   "metadata": {},
   "outputs": [
    {
     "data": {
      "text/plain": [
       "{'fecha': 'Fecha del accidente',\n",
       " 'HORA declarada': 'Hora local del accidente',\n",
       " 'Ruta': 'Aeropuerto de salida',\n",
       " 'OperadOR': 'Linea aerea u operador de la aeronave',\n",
       " 'flight_no': 'Número de vuelo asignado por el operador',\n",
       " 'route': 'Ruta completa o parcial volada antes del accidente',\n",
       " 'ac_type': 'Tipo de aeronave',\n",
       " 'registration': 'Matricula OACI de la aeronave',\n",
       " 'cn_ln': 'Construcción o número de serie',\n",
       " 'all_aboard': 'Total de personas a bordo, incluidos pasajeros y tripulación',\n",
       " 'PASAJEROS A BORDO': 'Total de pasajeros a bordo',\n",
       " 'crew_aboard': 'Total de tripulantes a bordo',\n",
       " 'cantidad de fallecidos': 'Total de fallecidos',\n",
       " 'passenger_fatalities': 'Pasajeros fallecidos',\n",
       " 'crew_fatalities': 'Tripulantes fallecidos',\n",
       " 'ground': 'Fallecidos en tierra',\n",
       " 'summary': 'Descripcion breve del suceso'}"
      ]
     },
     "execution_count": 14,
     "metadata": {},
     "output_type": "execute_result"
    }
   ],
   "source": [
    "significado_variables"
   ]
  },
  {
   "cell_type": "code",
   "execution_count": 15,
   "metadata": {},
   "outputs": [],
   "source": [
    "# Definimos una función para reemplazar registros que sólo puedan contener cadenas vacías o el caracter \"?\" por valores nulos. \n",
    "\n",
    "def reemplazar_valores_vacios(df):\n",
    "    \"\"\"\n",
    "    Esta función reemplaza los valores vacíos ('') y los valores de interrogación (\"?\") en nuestro DataFrame con NaN.\n",
    "\n",
    "    Parámetros:\n",
    "    - df: DataFrame: El DataFrame en el que se reemplazarán los valores vacíos.\n",
    "\n",
    "    Retorna:\n",
    "    - DataFrame: El DataFrame con los valores vacíos reemplazados por NaN.\n",
    "    \"\"\"\n",
    "    df.replace(['', \"?\"], np.nan, inplace=True)\n",
    "    return df\n"
   ]
  },
  {
   "cell_type": "code",
   "execution_count": 16,
   "metadata": {},
   "outputs": [],
   "source": [
    "# Reemplazamos los valores vacíos ('') y valores de interrogación (\"?\") en nuestro DataFrame.\n",
    "df = reemplazar_valores_vacios(df)"
   ]
  },
  {
   "cell_type": "code",
   "execution_count": 17,
   "metadata": {},
   "outputs": [
    {
     "data": {
      "text/html": [
       "<div>\n",
       "<style scoped>\n",
       "    .dataframe tbody tr th:only-of-type {\n",
       "        vertical-align: middle;\n",
       "    }\n",
       "\n",
       "    .dataframe tbody tr th {\n",
       "        vertical-align: top;\n",
       "    }\n",
       "\n",
       "    .dataframe thead th {\n",
       "        text-align: right;\n",
       "    }\n",
       "</style>\n",
       "<table border=\"1\" class=\"dataframe\">\n",
       "  <thead>\n",
       "    <tr style=\"text-align: right;\">\n",
       "      <th></th>\n",
       "      <th>fecha</th>\n",
       "      <th>HORA declarada</th>\n",
       "      <th>Ruta</th>\n",
       "      <th>OperadOR</th>\n",
       "      <th>flight_no</th>\n",
       "      <th>route</th>\n",
       "      <th>ac_type</th>\n",
       "      <th>registration</th>\n",
       "      <th>cn_ln</th>\n",
       "      <th>all_aboard</th>\n",
       "      <th>PASAJEROS A BORDO</th>\n",
       "      <th>crew_aboard</th>\n",
       "      <th>cantidad de fallecidos</th>\n",
       "      <th>passenger_fatalities</th>\n",
       "      <th>crew_fatalities</th>\n",
       "      <th>ground</th>\n",
       "      <th>summary</th>\n",
       "    </tr>\n",
       "  </thead>\n",
       "  <tbody>\n",
       "    <tr>\n",
       "      <th>0</th>\n",
       "      <td>September 17, 1908</td>\n",
       "      <td>1718</td>\n",
       "      <td>Fort Myer, Virginia</td>\n",
       "      <td>Military - U.S. Army</td>\n",
       "      <td>NaN</td>\n",
       "      <td>Demonstration</td>\n",
       "      <td>Wright Flyer III</td>\n",
       "      <td>NaN</td>\n",
       "      <td>1</td>\n",
       "      <td>2</td>\n",
       "      <td>1</td>\n",
       "      <td>1</td>\n",
       "      <td>1</td>\n",
       "      <td>1</td>\n",
       "      <td>0</td>\n",
       "      <td>0</td>\n",
       "      <td>During a demonstration flight, a U.S. Army fly...</td>\n",
       "    </tr>\n",
       "    <tr>\n",
       "      <th>1</th>\n",
       "      <td>September 07, 1909</td>\n",
       "      <td>NaN</td>\n",
       "      <td>Juvisy-sur-Orge, France</td>\n",
       "      <td>NaN</td>\n",
       "      <td>NaN</td>\n",
       "      <td>Air show</td>\n",
       "      <td>Wright Byplane</td>\n",
       "      <td>SC1</td>\n",
       "      <td>NaN</td>\n",
       "      <td>1</td>\n",
       "      <td>0</td>\n",
       "      <td>1</td>\n",
       "      <td>1</td>\n",
       "      <td>0</td>\n",
       "      <td>0</td>\n",
       "      <td>0</td>\n",
       "      <td>Eugene Lefebvre was the first pilot to ever be...</td>\n",
       "    </tr>\n",
       "    <tr>\n",
       "      <th>2</th>\n",
       "      <td>July 12, 1912</td>\n",
       "      <td>0630</td>\n",
       "      <td>Atlantic City, New Jersey</td>\n",
       "      <td>Military - U.S. Navy</td>\n",
       "      <td>NaN</td>\n",
       "      <td>Test flight</td>\n",
       "      <td>Dirigible</td>\n",
       "      <td>NaN</td>\n",
       "      <td>NaN</td>\n",
       "      <td>5</td>\n",
       "      <td>0</td>\n",
       "      <td>5</td>\n",
       "      <td>5</td>\n",
       "      <td>0</td>\n",
       "      <td>5</td>\n",
       "      <td>0</td>\n",
       "      <td>First U.S. dirigible Akron exploded just offsh...</td>\n",
       "    </tr>\n",
       "    <tr>\n",
       "      <th>3</th>\n",
       "      <td>August 06, 1913</td>\n",
       "      <td>NaN</td>\n",
       "      <td>Victoria, British Columbia, Canada</td>\n",
       "      <td>Private</td>\n",
       "      <td>NaN</td>\n",
       "      <td>NaN</td>\n",
       "      <td>Curtiss seaplane</td>\n",
       "      <td>NaN</td>\n",
       "      <td>NaN</td>\n",
       "      <td>1</td>\n",
       "      <td>0</td>\n",
       "      <td>1</td>\n",
       "      <td>1</td>\n",
       "      <td>0</td>\n",
       "      <td>1</td>\n",
       "      <td>0</td>\n",
       "      <td>The first fatal airplane accident in Canada oc...</td>\n",
       "    </tr>\n",
       "    <tr>\n",
       "      <th>4</th>\n",
       "      <td>September 09, 1913</td>\n",
       "      <td>1830</td>\n",
       "      <td>Over the North Sea</td>\n",
       "      <td>Military - German Navy</td>\n",
       "      <td>NaN</td>\n",
       "      <td>NaN</td>\n",
       "      <td>Zeppelin L-1 (airship)</td>\n",
       "      <td>NaN</td>\n",
       "      <td>NaN</td>\n",
       "      <td>20</td>\n",
       "      <td>NaN</td>\n",
       "      <td>NaN</td>\n",
       "      <td>14</td>\n",
       "      <td>NaN</td>\n",
       "      <td>NaN</td>\n",
       "      <td>0</td>\n",
       "      <td>The airship flew into a thunderstorm and encou...</td>\n",
       "    </tr>\n",
       "  </tbody>\n",
       "</table>\n",
       "</div>"
      ],
      "text/plain": [
       "                fecha HORA declarada                                Ruta  \\\n",
       "0  September 17, 1908           1718                 Fort Myer, Virginia   \n",
       "1  September 07, 1909            NaN             Juvisy-sur-Orge, France   \n",
       "2       July 12, 1912           0630           Atlantic City, New Jersey   \n",
       "3     August 06, 1913            NaN  Victoria, British Columbia, Canada   \n",
       "4  September 09, 1913           1830                  Over the North Sea   \n",
       "\n",
       "                 OperadOR flight_no          route                 ac_type  \\\n",
       "0    Military - U.S. Army       NaN  Demonstration        Wright Flyer III   \n",
       "1                     NaN       NaN       Air show          Wright Byplane   \n",
       "2    Military - U.S. Navy       NaN    Test flight               Dirigible   \n",
       "3                 Private       NaN            NaN        Curtiss seaplane   \n",
       "4  Military - German Navy       NaN            NaN  Zeppelin L-1 (airship)   \n",
       "\n",
       "  registration cn_ln all_aboard PASAJEROS A BORDO crew_aboard  \\\n",
       "0          NaN     1          2                 1           1   \n",
       "1          SC1   NaN          1                 0           1   \n",
       "2          NaN   NaN          5                 0           5   \n",
       "3          NaN   NaN          1                 0           1   \n",
       "4          NaN   NaN         20               NaN         NaN   \n",
       "\n",
       "  cantidad de fallecidos passenger_fatalities crew_fatalities ground  \\\n",
       "0                      1                    1               0      0   \n",
       "1                      1                    0               0      0   \n",
       "2                      5                    0               5      0   \n",
       "3                      1                    0               1      0   \n",
       "4                     14                  NaN             NaN      0   \n",
       "\n",
       "                                             summary  \n",
       "0  During a demonstration flight, a U.S. Army fly...  \n",
       "1  Eugene Lefebvre was the first pilot to ever be...  \n",
       "2  First U.S. dirigible Akron exploded just offsh...  \n",
       "3  The first fatal airplane accident in Canada oc...  \n",
       "4  The airship flew into a thunderstorm and encou...  "
      ]
     },
     "execution_count": 17,
     "metadata": {},
     "output_type": "execute_result"
    }
   ],
   "source": [
    "# Corroboramos la funcionalidad de la función ejecutada anteriormente. \n",
    "df.head()"
   ]
  },
  {
   "cell_type": "code",
   "execution_count": 18,
   "metadata": {},
   "outputs": [
    {
     "data": {
      "text/plain": [
       "fecha                        0\n",
       "HORA declarada            1504\n",
       "Ruta                         5\n",
       "OperadOR                    10\n",
       "flight_no                 3682\n",
       "route                      762\n",
       "ac_type                     13\n",
       "registration               272\n",
       "cn_ln                      667\n",
       "all_aboard                  17\n",
       "PASAJEROS A BORDO          221\n",
       "crew_aboard                219\n",
       "cantidad de fallecidos       8\n",
       "passenger_fatalities       235\n",
       "crew_fatalities            235\n",
       "ground                      44\n",
       "summary                     59\n",
       "dtype: int64"
      ]
     },
     "execution_count": 18,
     "metadata": {},
     "output_type": "execute_result"
    }
   ],
   "source": [
    "# Visualizamos los valores nulos por variable en nuestro DataFrame. \n",
    "df.isnull().sum()"
   ]
  },
  {
   "cell_type": "code",
   "execution_count": 19,
   "metadata": {},
   "outputs": [
    {
     "name": "stdout",
     "output_type": "stream",
     "text": [
      "Los datos faltantes del dataframe son:\n",
      "\n",
      "\n",
      "flight_no                 3682\n",
      "HORA declarada            1504\n",
      "route                      762\n",
      "cn_ln                      667\n",
      "registration               272\n",
      "crew_fatalities            235\n",
      "passenger_fatalities       235\n",
      "PASAJEROS A BORDO          221\n",
      "crew_aboard                219\n",
      "summary                     59\n",
      "ground                      44\n",
      "all_aboard                  17\n",
      "ac_type                     13\n",
      "OperadOR                    10\n",
      "cantidad de fallecidos       8\n",
      "Ruta                         5\n",
      "fecha                        0\n",
      "dtype: int64\n",
      "\n",
      "\n",
      "El porcentaje de datos faltantes del dataframe es:\n",
      "\n",
      "\n",
      "                        Total  Porcentaje\n",
      "flight_no                3682    0.735224\n",
      "HORA declarada           1504    0.300319\n",
      "route                     762    0.152157\n",
      "cn_ln                     667    0.133187\n",
      "registration              272    0.054313\n",
      "crew_fatalities           235    0.046925\n",
      "passenger_fatalities      235    0.046925\n",
      "PASAJEROS A BORDO         221    0.044129\n",
      "crew_aboard               219    0.043730\n",
      "summary                    59    0.011781\n",
      "ground                     44    0.008786\n",
      "all_aboard                 17    0.003395\n",
      "ac_type                    13    0.002596\n",
      "OperadOR                   10    0.001997\n",
      "cantidad de fallecidos      8    0.001597\n",
      "Ruta                        5    0.000998\n"
     ]
    }
   ],
   "source": [
    "# Visualizamos con más detalle la cantidad de valores nulos en cada columna de nuestro DataFrame y analizamos los porcentajes de los mismos. \n",
    "total_nulos = df.isnull().sum().sort_values(ascending=False)\n",
    "porcentaje_nulos = (df.isnull().sum()/df.isnull().count()).sort_values(ascending=False)\n",
    "datos_faltantes = pd.concat([total_nulos, porcentaje_nulos], axis=1, keys=[\"Total\", \"Porcentaje\"])\n",
    "print( \"Los datos faltantes del dataframe son:\", \"\\n\",\n",
    "      total_nulos, \"\\n\",\n",
    "      \"El porcentaje de datos faltantes del dataframe es:\", \"\\n\",\n",
    "      datos_faltantes[datos_faltantes[\"Total\"]>0], sep = \"\\n\")"
   ]
  },
  {
   "cell_type": "code",
   "execution_count": 20,
   "metadata": {},
   "outputs": [],
   "source": [
    "# Convertimos el tipo de variables objetc a numérica integer que representan cantidades numéricas discretas y datatime en el caso de la columna fecha.\n",
    "columnas_numericas = [\"all_aboard\", \"PASAJEROS A BORDO\", \"crew_aboard\", \"cantidad de fallecidos\", \"passenger_fatalities\", \"crew_fatalities\", \"ground\"]\n",
    "\n",
    "df[columnas_numericas] = df[columnas_numericas].apply(pd.to_numeric, errors=\"coerce\").fillna(pd.NA).astype(pd.Int64Dtype())\n",
    "\n",
    "df[columnas_numericas] = df[columnas_numericas].fillna(df[columnas_numericas].median())\n"
   ]
  },
  {
   "cell_type": "code",
   "execution_count": 21,
   "metadata": {},
   "outputs": [],
   "source": [
    "df[\"fecha\"] = pd.to_datetime(df[\"fecha\"])"
   ]
  },
  {
   "cell_type": "code",
   "execution_count": 22,
   "metadata": {},
   "outputs": [
    {
     "name": "stdout",
     "output_type": "stream",
     "text": [
      "<class 'pandas.core.frame.DataFrame'>\n",
      "RangeIndex: 5008 entries, 0 to 5007\n",
      "Data columns (total 17 columns):\n",
      " #   Column                  Non-Null Count  Dtype         \n",
      "---  ------                  --------------  -----         \n",
      " 0   fecha                   5008 non-null   datetime64[ns]\n",
      " 1   HORA declarada          3504 non-null   object        \n",
      " 2   Ruta                    5003 non-null   object        \n",
      " 3   OperadOR                4998 non-null   object        \n",
      " 4   flight_no               1326 non-null   object        \n",
      " 5   route                   4246 non-null   object        \n",
      " 6   ac_type                 4995 non-null   object        \n",
      " 7   registration            4736 non-null   object        \n",
      " 8   cn_ln                   4341 non-null   object        \n",
      " 9   all_aboard              5008 non-null   Int64         \n",
      " 10  PASAJEROS A BORDO       5008 non-null   Int64         \n",
      " 11  crew_aboard             5008 non-null   Int64         \n",
      " 12  cantidad de fallecidos  5008 non-null   Int64         \n",
      " 13  passenger_fatalities    5008 non-null   Int64         \n",
      " 14  crew_fatalities         5008 non-null   Int64         \n",
      " 15  ground                  5008 non-null   Int64         \n",
      " 16  summary                 4949 non-null   object        \n",
      "dtypes: Int64(7), datetime64[ns](1), object(9)\n",
      "memory usage: 699.5+ KB\n"
     ]
    }
   ],
   "source": [
    "# Corroboramos las conversiones de tipo de datos anteriormente ejecutadas. \n",
    "df.info()"
   ]
  },
  {
   "cell_type": "code",
   "execution_count": 23,
   "metadata": {},
   "outputs": [
    {
     "data": {
      "image/png": "[encoded data removed]",
      "text/plain": [
       "<Figure size 1000x500 with 3 Axes>"
      ]
     },
     "metadata": {},
     "output_type": "display_data"
    }
   ],
   "source": [
    "# Visualizamos las proporcines de los valores nulos de cada columna de nuestro DataFrame.\n",
    "import missingno \n",
    "color = [\"dimgrey\", \"blue\", \"dimgrey\", \"dimgrey\", \"darkblue\", \"lightblue\", \"dimgrey\", \"lightblue\", \"lightblue\", \"dimgrey\", \"dimgrey\", \"dimgrey\", \"dimgrey\", \"dimgrey\", \"dimgrey\", \"dimgrey\", \"dimgrey\"]\n",
    "missingno.bar(df, fontsize= 8, color= color, figsize= (10,5))\n",
    "plt.title(\"Valores Nulos\", fontsize= 16)\n",
    "plt.show()"
   ]
  },
  {
   "cell_type": "code",
   "execution_count": 24,
   "metadata": {},
   "outputs": [],
   "source": [
    "# Seleccionamos las columnas con las cuales vamos a trabajar en el Análisis Exploratorio de los Datos. \n",
    "df = df[[\"fecha\", \"Ruta\", \"OperadOR\", \"ac_type\", \"all_aboard\",\n",
    "       \"PASAJEROS A BORDO\", \"crew_aboard\", \"cantidad de fallecidos\",\n",
    "       \"passenger_fatalities\", \"crew_fatalities\", \"ground\", \"summary\"]]"
   ]
  },
  {
   "cell_type": "code",
   "execution_count": 25,
   "metadata": {},
   "outputs": [
    {
     "data": {
      "text/html": [
       "<div>\n",
       "<style scoped>\n",
       "    .dataframe tbody tr th:only-of-type {\n",
       "        vertical-align: middle;\n",
       "    }\n",
       "\n",
       "    .dataframe tbody tr th {\n",
       "        vertical-align: top;\n",
       "    }\n",
       "\n",
       "    .dataframe thead th {\n",
       "        text-align: right;\n",
       "    }\n",
       "</style>\n",
       "<table border=\"1\" class=\"dataframe\">\n",
       "  <thead>\n",
       "    <tr style=\"text-align: right;\">\n",
       "      <th></th>\n",
       "      <th>fecha</th>\n",
       "      <th>Ruta</th>\n",
       "      <th>OperadOR</th>\n",
       "      <th>ac_type</th>\n",
       "      <th>all_aboard</th>\n",
       "      <th>PASAJEROS A BORDO</th>\n",
       "      <th>crew_aboard</th>\n",
       "      <th>cantidad de fallecidos</th>\n",
       "      <th>passenger_fatalities</th>\n",
       "      <th>crew_fatalities</th>\n",
       "      <th>ground</th>\n",
       "      <th>summary</th>\n",
       "    </tr>\n",
       "  </thead>\n",
       "  <tbody>\n",
       "    <tr>\n",
       "      <th>0</th>\n",
       "      <td>1908-09-17</td>\n",
       "      <td>Fort Myer, Virginia</td>\n",
       "      <td>Military - U.S. Army</td>\n",
       "      <td>Wright Flyer III</td>\n",
       "      <td>2</td>\n",
       "      <td>1</td>\n",
       "      <td>1</td>\n",
       "      <td>1</td>\n",
       "      <td>1</td>\n",
       "      <td>0</td>\n",
       "      <td>0</td>\n",
       "      <td>During a demonstration flight, a U.S. Army fly...</td>\n",
       "    </tr>\n",
       "    <tr>\n",
       "      <th>1</th>\n",
       "      <td>1909-09-07</td>\n",
       "      <td>Juvisy-sur-Orge, France</td>\n",
       "      <td>NaN</td>\n",
       "      <td>Wright Byplane</td>\n",
       "      <td>1</td>\n",
       "      <td>0</td>\n",
       "      <td>1</td>\n",
       "      <td>1</td>\n",
       "      <td>0</td>\n",
       "      <td>0</td>\n",
       "      <td>0</td>\n",
       "      <td>Eugene Lefebvre was the first pilot to ever be...</td>\n",
       "    </tr>\n",
       "    <tr>\n",
       "      <th>2</th>\n",
       "      <td>1912-07-12</td>\n",
       "      <td>Atlantic City, New Jersey</td>\n",
       "      <td>Military - U.S. Navy</td>\n",
       "      <td>Dirigible</td>\n",
       "      <td>5</td>\n",
       "      <td>0</td>\n",
       "      <td>5</td>\n",
       "      <td>5</td>\n",
       "      <td>0</td>\n",
       "      <td>5</td>\n",
       "      <td>0</td>\n",
       "      <td>First U.S. dirigible Akron exploded just offsh...</td>\n",
       "    </tr>\n",
       "  </tbody>\n",
       "</table>\n",
       "</div>"
      ],
      "text/plain": [
       "       fecha                       Ruta              OperadOR  \\\n",
       "0 1908-09-17        Fort Myer, Virginia  Military - U.S. Army   \n",
       "1 1909-09-07    Juvisy-sur-Orge, France                   NaN   \n",
       "2 1912-07-12  Atlantic City, New Jersey  Military - U.S. Navy   \n",
       "\n",
       "            ac_type  all_aboard  PASAJEROS A BORDO  crew_aboard  \\\n",
       "0  Wright Flyer III           2                  1            1   \n",
       "1    Wright Byplane           1                  0            1   \n",
       "2         Dirigible           5                  0            5   \n",
       "\n",
       "   cantidad de fallecidos  passenger_fatalities  crew_fatalities  ground  \\\n",
       "0                       1                     1                0       0   \n",
       "1                       1                     0                0       0   \n",
       "2                       5                     0                5       0   \n",
       "\n",
       "                                             summary  \n",
       "0  During a demonstration flight, a U.S. Army fly...  \n",
       "1  Eugene Lefebvre was the first pilot to ever be...  \n",
       "2  First U.S. dirigible Akron exploded just offsh...  "
      ]
     },
     "execution_count": 25,
     "metadata": {},
     "output_type": "execute_result"
    }
   ],
   "source": [
    "# Corroboramos \n",
    "df.head(3)"
   ]
  },
  {
   "cell_type": "code",
   "execution_count": 26,
   "metadata": {},
   "outputs": [],
   "source": [
    "# Eliminamos los valores nulos que hayan quedado en nuestras columnas seleccinadas.\n",
    "df.dropna(inplace=True)"
   ]
  },
  {
   "cell_type": "code",
   "execution_count": 27,
   "metadata": {},
   "outputs": [
    {
     "data": {
      "text/plain": [
       "fecha                     0\n",
       "Ruta                      0\n",
       "OperadOR                  0\n",
       "ac_type                   0\n",
       "all_aboard                0\n",
       "PASAJEROS A BORDO         0\n",
       "crew_aboard               0\n",
       "cantidad de fallecidos    0\n",
       "passenger_fatalities      0\n",
       "crew_fatalities           0\n",
       "ground                    0\n",
       "summary                   0\n",
       "dtype: int64"
      ]
     },
     "execution_count": 27,
     "metadata": {},
     "output_type": "execute_result"
    }
   ],
   "source": [
    "# Corroboramos \n",
    "df.isnull().sum()"
   ]
  },
  {
   "cell_type": "code",
   "execution_count": 28,
   "metadata": {},
   "outputs": [
    {
     "data": {
      "text/plain": [
       "array([False])"
      ]
     },
     "execution_count": 28,
     "metadata": {},
     "output_type": "execute_result"
    }
   ],
   "source": [
    "# Eliminamos posibles valores duplicados en nuestro DataFrame.\n",
    "df.duplicated().unique()"
   ]
  },
  {
   "cell_type": "code",
   "execution_count": 29,
   "metadata": {},
   "outputs": [],
   "source": [
    "# Aignamos nuevos nombres a las columnas con las que trabajaremos.\n",
    "nombres = {\"fecha\": \"Fecha\", \"Ruta\": \"Aeropuerto_Salida\", \"OperadOR\": \"Operador\", \"ac_type\": \"Tipo_Aeronave\", \"all_aboard\": \"Total_a_Bordo\", \" PASAJEROS A BORDO\": \"Pasajeros_a_Bordo\", \"crew_aboard\": \"Tripulacion_a_Bordo\", \"cantidad de fallecidos\": \"Fallecidos_Totales\", \"passenger_fatalities\": \"Fallecidos_Pasajeros\",\"crew_fatalities\": \"Fallecidos_Tripulacion\", \"ground\": \"Victimas_Tierra\", \"summary\": \"Resumen\"}"
   ]
  },
  {
   "cell_type": "code",
   "execution_count": 30,
   "metadata": {},
   "outputs": [],
   "source": [
    "# Definimos una función a través de la cual se renombrarán las columnas de nuestro DataFrame. \n",
    "\n",
    "def renombrar_columnas(df, nombres):\n",
    "    \"\"\"\n",
    "    Esta función renombra las columnas de nuestro DataFrame según los nombres proporcionados.\n",
    "\n",
    "    Parámetros:\n",
    "    - df: DataFrame: El DataFrame al que se le cambiarán los nombres de las columnas.\n",
    "    - nombres: dict: Un diccionario que mapea los nombres actuales de las columnas con los nombres deseados.\n",
    "\n",
    "    Retorna:\n",
    "    - DataFrame: El DataFrame con las columnas renombradas.\n",
    "    \"\"\"\n",
    "    df = df.rename(columns=nombres)\n",
    "    return df\n"
   ]
  },
  {
   "cell_type": "code",
   "execution_count": 31,
   "metadata": {},
   "outputs": [],
   "source": [
    "# Definimos el nuevo DataFrame con las columnas renombradas. \n",
    "df = renombrar_columnas(df, nombres)"
   ]
  },
  {
   "cell_type": "code",
   "execution_count": 32,
   "metadata": {},
   "outputs": [
    {
     "data": {
      "text/plain": [
       "Index(['Fecha', 'Aeropuerto_Salida', 'Operador', 'Tipo_Aeronave',\n",
       "       'Total_a_Bordo', 'PASAJEROS A BORDO', 'Tripulacion_a_Bordo',\n",
       "       'Fallecidos_Totales', 'Fallecidos_Pasajeros', 'Fallecidos_Tripulacion',\n",
       "       'Victimas_Tierra', 'Resumen'],\n",
       "      dtype='object')"
      ]
     },
     "execution_count": 32,
     "metadata": {},
     "output_type": "execute_result"
    }
   ],
   "source": [
    "# Corroboramos \n",
    "df.columns"
   ]
  },
  {
   "cell_type": "code",
   "execution_count": 33,
   "metadata": {},
   "outputs": [],
   "source": [
    "# Normalizamos la sintaxis de la columna PASAJEROS A BORDO.\n",
    "df = df.rename(columns={\"PASAJEROS A BORDO\": \"Pasajeros_a_Bordo\"})"
   ]
  },
  {
   "cell_type": "code",
   "execution_count": 34,
   "metadata": {},
   "outputs": [
    {
     "data": {
      "text/plain": [
       "Index(['Fecha', 'Aeropuerto_Salida', 'Operador', 'Tipo_Aeronave',\n",
       "       'Total_a_Bordo', 'Pasajeros_a_Bordo', 'Tripulacion_a_Bordo',\n",
       "       'Fallecidos_Totales', 'Fallecidos_Pasajeros', 'Fallecidos_Tripulacion',\n",
       "       'Victimas_Tierra', 'Resumen'],\n",
       "      dtype='object')"
      ]
     },
     "execution_count": 34,
     "metadata": {},
     "output_type": "execute_result"
    }
   ],
   "source": [
    "# Corroboramos\n",
    "df.columns"
   ]
  },
  {
   "cell_type": "code",
   "execution_count": 35,
   "metadata": {},
   "outputs": [],
   "source": [
    "# Exportamos el nuevo DataFrame con los datos procesados para realizar el análisis EDA en un nuevo archivo formato csv.\n",
    "df.to_csv(\"Accident_Aereos.csv\", index=False)"
   ]
  }
 ],
 "metadata": {
  "kernelspec": {
   "display_name": "Python 3",
   "language": "python",
   "name": "python3"
  },
  "language_info": {
   "codemirror_mode": {
    "name": "ipython",
    "version": 3
   },
   "file_extension": ".py",
   "mimetype": "text/x-python",
   "name": "python",
   "nbconvert_exporter": "python",
   "pygments_lexer": "ipython3",
   "version": "3.10.9"
  },
  "orig_nbformat": 4
 },
 "nbformat": 4,
 "nbformat_minor": 2
}
